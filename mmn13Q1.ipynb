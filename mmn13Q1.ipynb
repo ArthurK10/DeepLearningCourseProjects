{
  "nbformat": 4,
  "nbformat_minor": 0,
  "metadata": {
    "colab": {
      "name": "mmn13Q1.ipynb",
      "provenance": [],
      "collapsed_sections": []
    },
    "kernelspec": {
      "name": "python3",
      "display_name": "Python 3"
    },
    "language_info": {
      "name": "python"
    }
  },
  "cells": [
    {
      "cell_type": "code",
      "execution_count": 1,
      "metadata": {
        "id": "J-HaOg7QHqzP"
      },
      "outputs": [],
      "source": [
        "import torch \n",
        "from torch import nn\n",
        "import torch.nn.functional as F"
      ]
    },
    {
      "cell_type": "code",
      "source": [
        "class MyConv2D(nn.Module):\n",
        "  def __init__(self,in_channels=1,out_channels=1, kernel_size=(1,1), stride=1, padding=0):    \n",
        "    super(MyConv2D).__init__()\n",
        "    self.kernel_size = kernel_size\n",
        "    self.stride = stride\n",
        "    self.pad = padding\n",
        "    self.out_channels = out_channels\n",
        "    self.in_channels = in_channels\n",
        "    self.weight = torch.rand((out_channels, *kernel_size))\n",
        "    self.bias = torch.rand(kernel_size)\n",
        "    print(self.weight)\n",
        "\n",
        "  def forward(self, x):\n",
        "    x_shape = x.shape\n",
        "    x_pad = x\n",
        "    if self.pad:\n",
        "      x_pad = torch.zeros(x_shape[0], x_shape[1], x_shape[2]+2*self.pad, x_shape[3]+2*self.pad)\n",
        "      x_pad[:,:,self.pad:-self.pad, self.pad:-self.pad] = x\n",
        "\n",
        "    k = self.kernel_size\n",
        "    \n",
        "    n_h = 1 + int( (x_pad.shape[2]-k[0])/self.stride )\n",
        "    n_w = 1 + int( (x_pad.shape[3]-k[1])/self.stride )\n",
        "\n",
        "    y = torch.zeros((x_shape[0], self.out_channels, n_h, n_w))\n",
        "\n",
        "    for i in range((x_pad.shape[2]- k[0])//self.stride+1):\n",
        "      idx= i * self.stride\n",
        "      for j in range((x_pad.shape[3]- k[1])//self.stride+1):\n",
        "        \n",
        "        jdx =j * self.stride\n",
        "        tmp = x_pad[:,:,idx:idx+k[0],jdx:jdx+k[1]]\n",
        "        r = tmp * self.weight + self.bias\n",
        "        value = torch.sum(r, dim=(2,3))\n",
        "        y[:,:,i,j] = value  \n",
        "           \n",
        "    return y"
      ],
      "metadata": {
        "id": "-_xAdSVaH-ZF"
      },
      "execution_count": 2,
      "outputs": []
    },
    {
      "cell_type": "code",
      "source": [
        "x = torch.rand((1,1,5,5))\n",
        "x"
      ],
      "metadata": {
        "colab": {
          "base_uri": "https://localhost:8080/"
        },
        "id": "TcH5wA4WH_pZ",
        "outputId": "37f77e83-0357-4712-ce6a-f3c9dfeed353"
      },
      "execution_count": 3,
      "outputs": [
        {
          "output_type": "execute_result",
          "data": {
            "text/plain": [
              "tensor([[[[0.2488, 0.2807, 0.3279, 0.5437, 0.4571],\n",
              "          [0.1822, 0.1355, 0.7006, 0.6699, 0.6017],\n",
              "          [0.6634, 0.2642, 0.4713, 0.8826, 0.5040],\n",
              "          [0.8504, 0.2173, 0.4173, 0.8770, 0.2549],\n",
              "          [0.0097, 0.7825, 0.5828, 0.0092, 0.4350]]]])"
            ]
          },
          "metadata": {},
          "execution_count": 3
        }
      ]
    },
    {
      "cell_type": "code",
      "source": [
        "d = MyConv2D(1, 1, kernel_size=(3,3),padding=1, stride=1)"
      ],
      "metadata": {
        "colab": {
          "base_uri": "https://localhost:8080/"
        },
        "id": "xU90rUjoIDMs",
        "outputId": "d909f536-0942-4ff7-adea-4bd26c7438a4"
      },
      "execution_count": 4,
      "outputs": [
        {
          "output_type": "stream",
          "name": "stdout",
          "text": [
            "tensor([[[0.8039, 0.5660, 0.3056],\n",
            "         [0.8969, 0.7697, 0.3511],\n",
            "         [0.2858, 0.7888, 0.8912]]])\n"
          ]
        }
      ]
    },
    {
      "cell_type": "code",
      "source": [
        "y = d.forward(x)\n",
        "y"
      ],
      "metadata": {
        "colab": {
          "base_uri": "https://localhost:8080/"
        },
        "id": "dLQ8IdOFIFQo",
        "outputId": "73ab87fb-0171-45c9-9d9a-e125e8323a8d"
      },
      "execution_count": 5,
      "outputs": [
        {
          "output_type": "execute_result",
          "data": {
            "text/plain": [
              "tensor([[[[4.6646, 5.4477, 5.9935, 6.2480, 5.6156],\n",
              "          [5.2833, 5.9009, 6.8173, 7.4564, 6.5196],\n",
              "          [5.7224, 6.2975, 6.9027, 7.5535, 6.6203],\n",
              "          [6.0021, 7.1529, 6.3745, 6.8428, 6.4334],\n",
              "          [4.9400, 5.8598, 5.9426, 5.7024, 5.3024]]]])"
            ]
          },
          "metadata": {},
          "execution_count": 5
        }
      ]
    },
    {
      "cell_type": "code",
      "source": [
        "conv = nn.Conv2d(1,1,kernel_size=3,stride=1,padding=1)"
      ],
      "metadata": {
        "id": "LC0bC2FyIHG8"
      },
      "execution_count": 6,
      "outputs": []
    },
    {
      "cell_type": "code",
      "source": [
        "conv(x)"
      ],
      "metadata": {
        "colab": {
          "base_uri": "https://localhost:8080/"
        },
        "id": "hBqTniOjIKES",
        "outputId": "b7707a5b-39be-484d-ebef-e52935c48ea8"
      },
      "execution_count": 7,
      "outputs": [
        {
          "output_type": "execute_result",
          "data": {
            "text/plain": [
              "tensor([[[[-0.1510,  0.0227, -0.1277, -0.0240, -0.0976],\n",
              "          [-0.1540,  0.0009, -0.2125, -0.3095, -0.0476],\n",
              "          [-0.3280, -0.0876, -0.2094, -0.4355, -0.0075],\n",
              "          [-0.0980, -0.2953, -0.3581, -0.1302, -0.2260],\n",
              "          [-0.1824, -0.4757, -0.4496, -0.1857, -0.1545]]]],\n",
              "       grad_fn=<ConvolutionBackward0>)"
            ]
          },
          "metadata": {},
          "execution_count": 7
        }
      ]
    },
    {
      "cell_type": "code",
      "source": [
        ""
      ],
      "metadata": {
        "id": "LjA2owvGUv_K"
      },
      "execution_count": null,
      "outputs": []
    }
  ]
}