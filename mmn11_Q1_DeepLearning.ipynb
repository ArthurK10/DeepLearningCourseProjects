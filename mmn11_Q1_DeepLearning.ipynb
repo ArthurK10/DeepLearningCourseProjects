{
  "nbformat": 4,
  "nbformat_minor": 0,
  "metadata": {
    "colab": {
      "name": "mmn11_Q1_DeepLearning.ipynb",
      "provenance": []
    },
    "kernelspec": {
      "name": "python3",
      "display_name": "Python 3"
    },
    "language_info": {
      "name": "python"
    }
  },
  "cells": [
    {
      "cell_type": "code",
      "execution_count": 1,
      "metadata": {
        "id": "BMgtPMqXl3fB"
      },
      "outputs": [],
      "source": [
        "import torch\n",
        "import matplotlib.pyplot as plt"
      ]
    },
    {
      "cell_type": "code",
      "source": [
        "def my_sampler(size, dist, requires_grad = False):\n",
        "    t_dist = torch.tensor(dist) #turning the list dist to a tensor object\n",
        "    t_sum = torch.cumsum(t_dist, dim=0) #creating a tensor filled with the cumsum's of t_dist\n",
        "    n = float(len(dist)-1) #retrieving the size of the dist list\n",
        "    \n",
        "    #making sure all the elements in dist are greater then 1 and the sum of all them is equal to 1\n",
        "    assert t_dist.sum() == 1, 'The sum of the probabilities is greater then 1'\n",
        "    assert torch.all(torch.gt(t_dist, 0)), 'There is negative probabilities'\n",
        "\n",
        "    #creating a tensor with the size of 'size' filled with random numbers from a uniform distribution\n",
        "    s_tensor = torch.rand(size, dtype=torch.double)  \n",
        "    #implementing the first step of the algo, if U < p0 return 0\n",
        "    f_tensor1 = torch.where(s_tensor<t_sum[0], 0., s_tensor)  \n",
        "    #implementing the second step of the algo, if U >= to the sum of the probabilities from 0 to n-1 return n\n",
        "    f_tensor2 = torch.where(s_tensor>=t_sum[-2], n, f_tensor1)\n",
        "    #implementing the third step of the algo, finding the index that uphold the terms of the sigma's\n",
        "    for i in range(t_dist.numel() - 1):\n",
        "        f_tensor = torch.where((f_tensor2>t_sum[i]) & (f_tensor2<t_sum[i+1]), float(i+1), f_tensor2)\n",
        "        f_tensor2 = f_tensor\n",
        "    return f_tensor"
      ],
      "metadata": {
        "id": "jiAk20y7l4Wu"
      },
      "execution_count": 2,
      "outputs": []
    },
    {
      "cell_type": "code",
      "source": [
        "num_of_samples = 10000\n",
        "plt.hist(my_sampler(num_of_samples,[0.1,0.2,0.7]))\n",
        "plt.show()"
      ],
      "metadata": {
        "colab": {
          "base_uri": "https://localhost:8080/",
          "height": 265
        },
        "id": "bnG6_fMDl9eH",
        "outputId": "8f149cf8-7445-4d90-a0c0-097b5af3cad7"
      },
      "execution_count": 10,
      "outputs": [
        {
          "output_type": "display_data",
          "data": {
            "text/plain": [
              "<Figure size 432x288 with 1 Axes>"
            ],
            "image/png": "[encoded data removed]"
          },
          "metadata": {
            "needs_background": "light"
          }
        }
      ]
    },
    {
      "cell_type": "code",
      "source": [
        ""
      ],
      "metadata": {
        "id": "NvvTxvix2pO9"
      },
      "execution_count": null,
      "outputs": []
    }
  ]
}