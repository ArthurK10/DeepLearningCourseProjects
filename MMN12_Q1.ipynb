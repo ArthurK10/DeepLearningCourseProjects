{
  "nbformat": 4,
  "nbformat_minor": 0,
  "metadata": {
    "colab": {
      "name": "MMN12_Q1.ipynb",
      "provenance": []
    },
    "kernelspec": {
      "name": "python3",
      "display_name": "Python 3"
    },
    "language_info": {
      "name": "python"
    }
  },
  "cells": [
    {
      "cell_type": "code",
      "execution_count": null,
      "metadata": {
        "id": "v3ooCQ88mOly"
      },
      "outputs": [],
      "source": [
        "import torch\n",
        "import numpy as np\n",
        "from torch import nn"
      ]
    },
    {
      "cell_type": "markdown",
      "source": [
        "#**sections A + B**"
      ],
      "metadata": {
        "id": "7FstOisrfY5I"
      }
    },
    {
      "cell_type": "code",
      "source": [
        "class SplitLinear():\n",
        "  def __init__(self, num_of_features, out_features=2):\n",
        "    #the built-in linear aggregation function and ReLU\n",
        "    self.m = nn.Linear(int((num_of_features/2)), out_features)\n",
        "    self.r = nn.ReLU()\n",
        "    self.num_of_features =num_of_features\n",
        "  \n",
        "  def forward(self,x):  \n",
        "    num_of_samples = x.shape[0]\n",
        "    tmp1, tmp2 = torch.split(x, int((x.shape[1]/2)), dim=1)\n",
        "\n",
        "    z1 = self.m(tmp1)\n",
        "    z2 = self.m(tmp2)\n",
        "    y1 = self.r(z1)\n",
        "    y2 = self.r(z2)\n",
        "\n",
        "    y = torch.cat((y1,y2), dim=1)\n",
        "    return y"
      ],
      "metadata": {
        "id": "NLxR3l96k_jo"
      },
      "execution_count": null,
      "outputs": []
    },
    {
      "cell_type": "code",
      "source": [
        "import sklearn.datasets as skds\n",
        "x, y = skds.make_blobs(n_samples=10,n_features=4,\n",
        "                       centers=2,random_state=1)\n",
        "print(f'this is the original x:\\n{x}')"
      ],
      "metadata": {
        "id": "pch_cEM1n79G",
        "colab": {
          "base_uri": "https://localhost:8080/"
        },
        "outputId": "b54219bb-8181-46bb-95b6-1586c488f359"
      },
      "execution_count": null,
      "outputs": [
        {
          "output_type": "stream",
          "name": "stdout",
          "text": [
            "this is the original x:\n",
            "[[-0.79415228  2.10495117 -8.25290074 -4.71455545]\n",
            " [-7.25671774 -9.04085707 -7.02195407 -1.39633086]\n",
            " [-1.34052081  4.15711949 -8.53560457 -6.01348926]\n",
            " [-1.83198811  3.52863145 -9.95549876 -3.37053333]\n",
            " [-7.75205488 -8.99843375 -6.9460419  -3.10145006]\n",
            " [-1.98197711  4.02243551 -8.86394306 -5.05323981]\n",
            " [-6.16402623 -8.83695596 -6.397686   -4.02455489]\n",
            " [-2.76017908  5.55121358 -9.09612178 -3.45085421]\n",
            " [-7.33277026 -7.62287264 -6.96645652 -3.48553899]\n",
            " [-8.18219253 -7.91881241 -4.6149936  -2.3467413 ]]\n"
          ]
        }
      ]
    },
    {
      "cell_type": "code",
      "source": [
        "fl = x.flatten()\n",
        "print(f'this is the flat x:\\n{fl}')"
      ],
      "metadata": {
        "id": "9Mq0o9tFn-oq",
        "colab": {
          "base_uri": "https://localhost:8080/"
        },
        "outputId": "9d01be1c-a74e-4951-aa4c-f901d8fc7478"
      },
      "execution_count": null,
      "outputs": [
        {
          "output_type": "stream",
          "name": "stdout",
          "text": [
            "this is the flat x:\n",
            "[-0.79415228  2.10495117 -8.25290074 -4.71455545 -7.25671774 -9.04085707\n",
            " -7.02195407 -1.39633086 -1.34052081  4.15711949 -8.53560457 -6.01348926\n",
            " -1.83198811  3.52863145 -9.95549876 -3.37053333 -7.75205488 -8.99843375\n",
            " -6.9460419  -3.10145006 -1.98197711  4.02243551 -8.86394306 -5.05323981\n",
            " -6.16402623 -8.83695596 -6.397686   -4.02455489 -2.76017908  5.55121358\n",
            " -9.09612178 -3.45085421 -7.33277026 -7.62287264 -6.96645652 -3.48553899\n",
            " -8.18219253 -7.91881241 -4.6149936  -2.3467413 ]\n"
          ]
        }
      ]
    },
    {
      "cell_type": "code",
      "source": [
        "t = SplitLinear(4)\n",
        "data = torch.from_numpy(x).float()\n",
        "y = t.forward(data)\n",
        "print(y)"
      ],
      "metadata": {
        "id": "WoeRAh48pzN7",
        "colab": {
          "base_uri": "https://localhost:8080/"
        },
        "outputId": "fc8a7efe-9ca2-4507-8f8d-3d9739ceb6d9"
      },
      "execution_count": null,
      "outputs": [
        {
          "output_type": "stream",
          "name": "stdout",
          "text": [
            "tensor([[0.7733, 0.7404, 5.8278, 2.4732],\n",
            "        [5.7327, 0.7607, 4.7507, 2.8074],\n",
            "        [0.8610, 1.5890, 6.1346, 2.2447],\n",
            "        [1.2139, 1.6525, 6.6602, 3.6891],\n",
            "        [6.0135, 1.0159, 4.8958, 2.2879],\n",
            "        [1.2456, 1.8658, 6.2175, 2.6774],\n",
            "        [5.0803, 0.2820, 4.6820, 1.7577],\n",
            "        [1.5248, 2.6801, 6.1738, 3.2445],\n",
            "        [5.6195, 1.1991, 4.9501, 2.1893],\n",
            "        [6.1419, 1.5323, 3.4687, 1.3571]], grad_fn=<CatBackward0>)\n"
          ]
        }
      ]
    },
    {
      "cell_type": "markdown",
      "source": [
        "#**sections D + E + F in the google docs**"
      ],
      "metadata": {
        "id": "b5VY7tG3r8fc"
      }
    }
  ]
}