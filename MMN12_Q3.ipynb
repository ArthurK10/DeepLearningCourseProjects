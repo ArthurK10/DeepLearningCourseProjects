{
  "nbformat": 4,
  "nbformat_minor": 0,
  "metadata": {
    "colab": {
      "name": "MMN12_Q3.ipynb",
      "provenance": [],
      "collapsed_sections": [],
      "machine_shape": "hm"
    },
    "kernelspec": {
      "name": "python3",
      "display_name": "Python 3"
    },
    "language_info": {
      "name": "python"
    },
    "accelerator": "GPU"
  },
  "cells": [
    {
      "cell_type": "code",
      "execution_count": null,
      "metadata": {
        "id": "iEah0N7CeIIZ"
      },
      "outputs": [],
      "source": [
        "import torch\n",
        "from torch import nn\n",
        "import numpy as np\n",
        "import pandas as pd \n",
        "from torch.utils.data import Dataset\n",
        "from torch.utils.data import DataLoader\n",
        "from sklearn.metrics import accuracy_score, mean_absolute_error, mean_squared_error, r2_score"
      ]
    },
    {
      "cell_type": "code",
      "source": [
        "cuda = True if torch.cuda.is_available() else False\n",
        "device = torch.device(\"cuda\" if torch.cuda.is_available() else \"cpu\")\n",
        "print(device)"
      ],
      "metadata": {
        "colab": {
          "base_uri": "https://localhost:8080/"
        },
        "id": "QJOBV_Q-5Poj",
        "outputId": "94808665-c813-46ec-90fd-9d2b4bc99990"
      },
      "execution_count": null,
      "outputs": [
        {
          "output_type": "stream",
          "name": "stdout",
          "text": [
            "cuda\n"
          ]
        }
      ]
    },
    {
      "cell_type": "markdown",
      "source": [
        "#**sections A + B + C**"
      ],
      "metadata": {
        "id": "4GmIfIintbvD"
      }
    },
    {
      "cell_type": "code",
      "source": [
        "class my_dataset(Dataset):\n",
        "  def __init__(self):\n",
        "    self.data = pd.read_csv('/content/drive/MyDrive/diabetes.csv', delimiter = '\\t', dtype= np.float32)\n",
        "\n",
        "    y = self.data[\"Y\"]\n",
        "    x = self.data.drop([\"Y\"], axis=1)\n",
        "    x = np.array(x, dtype=np.float32)\n",
        "\n",
        "    max_val = x.max(axis=0)\n",
        "    min_val = x.min(axis=0)\n",
        "\n",
        "    x_new = (x - min_val)/(max_val-min_val)\n",
        "  \n",
        "    self.x = torch.from_numpy(x_new)\n",
        "    self.y = torch.from_numpy(np.expand_dims(np.array(y, dtype=np.float32), axis=1))\n",
        "\n",
        "  def __len__(self):\n",
        "    return len(self.data)\n",
        "\n",
        "  def __getitem__(self, idx):\n",
        "    return self.x[idx], self.y[idx]\n",
        "\n",
        "my_data = my_dataset()"
      ],
      "metadata": {
        "id": "fGqAtxISjOsv"
      },
      "execution_count": null,
      "outputs": []
    },
    {
      "cell_type": "code",
      "source": [
        "#printing the output of the __getitem__ method\n",
        "print(my_data.__getitem__(2))"
      ],
      "metadata": {
        "colab": {
          "base_uri": "https://localhost:8080/"
        },
        "id": "ABU3jD7T94Nr",
        "outputId": "298cb205-39bf-409a-a0cd-ddf555bc145d"
      },
      "execution_count": null,
      "outputs": [
        {
          "output_type": "stream",
          "name": "stdout",
          "text": [
            "(tensor([0.8833, 1.0000, 0.5165, 0.4366, 0.2892, 0.2590, 0.2468, 0.2821, 0.4966,\n",
            "        0.4091]), tensor([141.]))\n"
          ]
        }
      ]
    },
    {
      "cell_type": "code",
      "source": [
        "#printing the length of the data set\n",
        "print(my_data.__len__())"
      ],
      "metadata": {
        "colab": {
          "base_uri": "https://localhost:8080/"
        },
        "id": "bcFNBT1K2gxS",
        "outputId": "ce7cabc3-044b-4348-fbdc-40a4142191f3"
      },
      "execution_count": null,
      "outputs": [
        {
          "output_type": "stream",
          "name": "stdout",
          "text": [
            "442\n"
          ]
        }
      ]
    },
    {
      "cell_type": "code",
      "source": [
        "#splitting the data into training set and testing set\n",
        "tarin_size = int(0.8 * len(my_data))\n",
        "test_size = len(my_data) - tarin_size\n",
        "train_dataset, test_dataset = torch.utils.data.random_split(my_data, [tarin_size, test_size])\n",
        "print(len(train_dataset), len(test_dataset), sep='\\n')"
      ],
      "metadata": {
        "id": "LsQXhdWlJPX9",
        "colab": {
          "base_uri": "https://localhost:8080/"
        },
        "outputId": "059d7ec2-7eb2-4565-bd36-9eae5b99114d"
      },
      "execution_count": null,
      "outputs": [
        {
          "output_type": "stream",
          "name": "stdout",
          "text": [
            "353\n",
            "89\n"
          ]
        }
      ]
    },
    {
      "cell_type": "markdown",
      "source": [
        "#**section D**"
      ],
      "metadata": {
        "id": "wShUFiVnuGp_"
      }
    },
    {
      "cell_type": "code",
      "source": [
        "#loading the data through DataLoader to iterate over it\n",
        "train_dataloader = DataLoader(train_dataset, batch_size=10, shuffle=True)\n",
        "test_dataloader = DataLoader(test_dataset, batch_size=10, shuffle=False)\n",
        "\n",
        "train_features, train_Y = next(iter(train_dataloader))\n",
        "test_features, test_Y = next(iter(test_dataloader))"
      ],
      "metadata": {
        "id": "yB0_cM55-rts"
      },
      "execution_count": null,
      "outputs": []
    },
    {
      "cell_type": "markdown",
      "source": [
        "#**section E (printing one batch)**"
      ],
      "metadata": {
        "id": "_CAWv8FAfig7"
      }
    },
    {
      "cell_type": "code",
      "source": [
        "print(f'the features:\\n{train_features}',f'the Y value:\\n{train_Y}', sep = '\\n\\n')"
      ],
      "metadata": {
        "colab": {
          "base_uri": "https://localhost:8080/"
        },
        "id": "YFZElRNkMDUa",
        "outputId": "fe2162c4-ae34-48cc-f702-7777478ec2e7"
      },
      "execution_count": null,
      "outputs": [
        {
          "output_type": "stream",
          "name": "stdout",
          "text": [
            "the features:\n",
            "tensor([[0.5167, 0.0000, 0.2066, 0.5493, 0.4657, 0.4173, 0.3896, 0.2821, 0.3624,\n",
            "         0.3333],\n",
            "        [0.5833, 0.0000, 0.3636, 0.6479, 0.3873, 0.1942, 0.5844, 0.1410, 0.5959,\n",
            "         0.7273],\n",
            "        [0.2500, 1.0000, 0.2769, 0.7887, 0.7696, 0.7102, 0.2208, 0.7052, 0.6244,\n",
            "         0.3485],\n",
            "        [0.4500, 0.0000, 0.2851, 0.7465, 0.4951, 0.4382, 0.4156, 0.2821, 0.3575,\n",
            "         0.6818],\n",
            "        [0.4500, 1.0000, 0.2273, 0.3521, 0.4118, 0.3645, 0.2857, 0.2821, 0.5095,\n",
            "         0.6061],\n",
            "        [0.2167, 1.0000, 0.1653, 0.3662, 0.1961, 0.1843, 0.3377, 0.1410, 0.2433,\n",
            "         0.3030],\n",
            "        [0.2833, 1.0000, 0.5909, 0.7465, 0.9265, 0.7859, 0.2208, 0.7052, 0.7772,\n",
            "         0.8182],\n",
            "        [0.5333, 1.0000, 0.3264, 0.1972, 0.7010, 0.6345, 0.2208, 0.5642, 0.6378,\n",
            "         0.5758],\n",
            "        [0.8167, 1.0000, 0.3926, 0.6901, 0.5735, 0.5249, 0.2208, 0.4231, 0.5909,\n",
            "         0.5000],\n",
            "        [0.8333, 1.0000, 0.2686, 0.6479, 0.7157, 0.4721, 0.2338, 0.5642, 0.8951,\n",
            "         0.6364]])\n",
            "\n",
            "the Y value:\n",
            "tensor([[135.],\n",
            "        [191.],\n",
            "        [171.],\n",
            "        [104.],\n",
            "        [ 42.],\n",
            "        [ 72.],\n",
            "        [217.],\n",
            "        [116.],\n",
            "        [144.],\n",
            "        [241.]])\n"
          ]
        }
      ]
    },
    {
      "cell_type": "markdown",
      "source": [
        "#**section F**"
      ],
      "metadata": {
        "id": "Z9_2-apEwOpf"
      }
    },
    {
      "cell_type": "code",
      "source": [
        "class my_model(nn.Module):\n",
        "    def __init__(self):\n",
        "        super(my_model, self).__init__()\n",
        "        self.linear_relu_stack = nn.Sequential(\n",
        "            nn.Linear(10,320),\n",
        "            nn.ReLU(),\n",
        "            nn.Linear(320,200),\n",
        "            nn.ReLU(),\n",
        "            nn.Linear(200,140),\n",
        "            nn.ReLU(),\n",
        "            nn.Dropout(0.5),\n",
        "            nn.Linear(140,1)\n",
        "        )\n",
        "\n",
        "    def forward(self, x):\n",
        "        y = self.linear_relu_stack(x)\n",
        "        return y\n",
        "\n",
        "model = my_model().to(device)"
      ],
      "metadata": {
        "id": "jiibi94wwXqw"
      },
      "execution_count": null,
      "outputs": []
    },
    {
      "cell_type": "code",
      "source": [
        "loss_function = nn.MSELoss()\n",
        "optimizer = torch.optim.Adam(model.parameters(), lr = 0.001) "
      ],
      "metadata": {
        "id": "XY694tvxx11D"
      },
      "execution_count": null,
      "outputs": []
    },
    {
      "cell_type": "code",
      "source": [
        "epochs = 5000\n",
        "losses = []\n",
        "lr = 0.001\n",
        "for epoch in range(epochs):\n",
        "    epoch_loss = []\n",
        "    for batch_idx, (data, labels) in enumerate(train_dataloader):\n",
        "        \n",
        "        preds = model(data.to(device))\n",
        "        loss = loss_function(preds, labels.to(device))\n",
        "\n",
        "        optimizer.zero_grad()\n",
        "        loss.backward()\n",
        "        optimizer.step()\n",
        "\n",
        "        bach_loss = loss.item()\n",
        "        epoch_loss.append(bach_loss)\n",
        "\n",
        "    losses.append(np.mean(epoch_loss))\n",
        "    \n",
        "    if epoch % 100 == 0:\n",
        "        print(f'Epoch number: {epoch} and the loss: {losses[-1]}')"
      ],
      "metadata": {
        "id": "2hMp7H1u42l3",
        "colab": {
          "base_uri": "https://localhost:8080/"
        },
        "outputId": "61bd4735-a5dd-4144-f227-80655ec57bf8"
      },
      "execution_count": null,
      "outputs": [
        {
          "output_type": "stream",
          "name": "stdout",
          "text": [
            "Epoch number: 0 and the loss: 27256.069281684027\n",
            "Epoch number: 100 and the loss: 3153.172702365451\n",
            "Epoch number: 200 and the loss: 2797.997480604384\n",
            "Epoch number: 300 and the loss: 2395.112875196669\n",
            "Epoch number: 400 and the loss: 1982.0045344034831\n",
            "Epoch number: 500 and the loss: 1239.1340039571126\n",
            "Epoch number: 600 and the loss: 1041.6144468519424\n",
            "Epoch number: 700 and the loss: 1225.8902136484783\n",
            "Epoch number: 800 and the loss: 871.9232343037924\n",
            "Epoch number: 900 and the loss: 1153.6411730448406\n",
            "Epoch number: 1000 and the loss: 720.2321275075277\n",
            "Epoch number: 1100 and the loss: 702.7676853603787\n",
            "Epoch number: 1200 and the loss: 747.398819817437\n",
            "Epoch number: 1300 and the loss: 606.9750679863823\n",
            "Epoch number: 1400 and the loss: 674.1663470798069\n",
            "Epoch number: 1500 and the loss: 603.4952701992459\n",
            "Epoch number: 1600 and the loss: 636.7071064843071\n",
            "Epoch number: 1700 and the loss: 722.9214312235514\n",
            "Epoch number: 1800 and the loss: 471.3799828423394\n",
            "Epoch number: 1900 and the loss: 497.3977523379856\n",
            "Epoch number: 2000 and the loss: 513.9566178851658\n",
            "Epoch number: 2100 and the loss: 540.3869862026638\n",
            "Epoch number: 2200 and the loss: 496.1365158292982\n",
            "Epoch number: 2300 and the loss: 503.3675583733453\n",
            "Epoch number: 2400 and the loss: 526.4908226860894\n",
            "Epoch number: 2500 and the loss: 530.2369482252333\n",
            "Epoch number: 2600 and the loss: 497.19958941141766\n",
            "Epoch number: 2700 and the loss: 395.954584757487\n",
            "Epoch number: 2800 and the loss: 479.7758420308431\n",
            "Epoch number: 2900 and the loss: 407.4654263390435\n",
            "Epoch number: 3000 and the loss: 473.08680661519367\n",
            "Epoch number: 3100 and the loss: 469.61576631334094\n",
            "Epoch number: 3200 and the loss: 351.43862469991046\n",
            "Epoch number: 3300 and the loss: 354.30777751074896\n",
            "Epoch number: 3400 and the loss: 360.5097666846381\n",
            "Epoch number: 3500 and the loss: 395.30863677130804\n",
            "Epoch number: 3600 and the loss: 357.46322589450415\n",
            "Epoch number: 3700 and the loss: 407.5344885720147\n",
            "Epoch number: 3800 and the loss: 390.8285885916816\n",
            "Epoch number: 3900 and the loss: 286.5171907212999\n",
            "Epoch number: 4000 and the loss: 353.28160243564184\n",
            "Epoch number: 4100 and the loss: 343.0911107593113\n",
            "Epoch number: 4200 and the loss: 371.0524440341526\n",
            "Epoch number: 4300 and the loss: 391.5603250927395\n",
            "Epoch number: 4400 and the loss: 372.5847159491645\n",
            "Epoch number: 4500 and the loss: 302.9422314961751\n",
            "Epoch number: 4600 and the loss: 261.1252483791775\n",
            "Epoch number: 4700 and the loss: 307.1371723810832\n",
            "Epoch number: 4800 and the loss: 306.92196136050757\n",
            "Epoch number: 4900 and the loss: 354.2633778254191\n"
          ]
        }
      ]
    },
    {
      "cell_type": "code",
      "source": [
        "predictions = []\n",
        "test_Y = []\n",
        "with torch.no_grad():\n",
        "    for i,(data, labels) in enumerate(test_dataloader):\n",
        "        y_pred = model(data.to(device))\n",
        "        predictions.extend(y_pred.cpu().detach().numpy().astype(int))\n",
        "        test_Y.extend(labels.detach().numpy().astype(int))"
      ],
      "metadata": {
        "id": "9solnsH0FD-I"
      },
      "execution_count": null,
      "outputs": []
    },
    {
      "cell_type": "code",
      "source": [
        "test_Y = np.array(test_Y).reshape(-1, 1).squeeze()\n",
        "predictions = np.array(predictions).reshape(-1, 1).squeeze()"
      ],
      "metadata": {
        "id": "FR-CSW-N9djm"
      },
      "execution_count": null,
      "outputs": []
    },
    {
      "cell_type": "code",
      "source": [
        "#regression score function.\n",
        "score = r2_score(test_Y ,predictions)\n",
        "print(score)"
      ],
      "metadata": {
        "colab": {
          "base_uri": "https://localhost:8080/"
        },
        "id": "EdT_CdTF9lRK",
        "outputId": "9cfc7a2e-135d-4d11-eb73-8c938b5dbb59"
      },
      "execution_count": null,
      "outputs": [
        {
          "output_type": "stream",
          "name": "stdout",
          "text": [
            "0.021959812263826817\n"
          ]
        }
      ]
    }
  ]
}