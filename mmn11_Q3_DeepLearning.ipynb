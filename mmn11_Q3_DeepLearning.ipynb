{
  "nbformat": 4,
  "nbformat_minor": 0,
  "metadata": {
    "colab": {
      "name": "mmn11_Q3_DeepLearning.ipynb",
      "provenance": [],
      "collapsed_sections": []
    },
    "kernelspec": {
      "name": "python3",
      "display_name": "Python 3"
    },
    "language_info": {
      "name": "python"
    }
  },
  "cells": [
    {
      "cell_type": "code",
      "execution_count": 1,
      "metadata": {
        "id": "cLku-UfosTvL"
      },
      "outputs": [],
      "source": [
        "import torch\n",
        "from torch import autograd"
      ]
    },
    {
      "cell_type": "code",
      "source": [
        "global dic_name\n",
        "\n",
        "#creating a class\n",
        "class MyScalar:\n",
        "    def __init__(self, val, grad = 1, parent = None):\n",
        "        self.val = val\n",
        "        self.grad = grad\n",
        "        self.parent = parent\n",
        "\n",
        "#a+n\n",
        "def my_sum(a:MyScalar, n):\n",
        "    val = a.val + n\n",
        "    grad_a = 1\n",
        "    return MyScalar(val, grad_a, a)\n",
        "\n",
        "#n*a\n",
        "def my_mul(a:MyScalar, n):\n",
        "    val = n * a.val\n",
        "    grad_a = n\n",
        "    return MyScalar(val, grad_a, a)\n",
        "\n",
        "#a^n\n",
        "def my_pow(a:MyScalar, n):\n",
        "    val = a.val ** n\n",
        "    grad_a = n * (a.val ** (n-1))\n",
        "    return MyScalar(val, grad_a, a)\n",
        "\n",
        "#cos(a)\n",
        "def my_cos(a:MyScalar):\n",
        "    val = torch.cos(a.val)\n",
        "    grad_a = -torch.sin(a.val)\n",
        "    return MyScalar(val, grad_a, a)\n",
        "\n",
        "#sin(a)\n",
        "def my_sin(a:MyScalar):\n",
        "    val = torch.sin(a.val)\n",
        "    grad_a = torch.cos(a.val)\n",
        "    return MyScalar(val, grad_a, a)\n",
        "\n",
        "#ln(a)\n",
        "def my_ln(a:MyScalar):\n",
        "    val = torch.log(a.val)\n",
        "    grad_a = 1/(a.val)\n",
        "    return MyScalar(val, grad_a, a)\n",
        "\n",
        "#exp(a)\n",
        "def my_exp(a:MyScalar):\n",
        "    val = torch.exp(torch.tensor(a.val))\n",
        "    grad_a = torch.exp(torch.tensor(a.val))\n",
        "    return MyScalar(val, grad_a, a)\n",
        "\n",
        "#gets an object from type myScalar and uses a dictionary to store all the gradients that he depands on them\n",
        "def get_gradient(a:MyScalar, grad=1):\n",
        "    if a.parent is None:\n",
        "        dic_name[a] = grad\n",
        "    else:\n",
        "        dic_name[a] = grad\n",
        "        get_gradient(a.parent, a.grad * grad)"
      ],
      "metadata": {
        "id": "OBvEwfYE0vih"
      },
      "execution_count": 2,
      "outputs": []
    },
    {
      "cell_type": "code",
      "source": [
        "dic_name = {}\n",
        "a = MyScalar(2)\n",
        "b = my_pow(a, 3)\n",
        "c = my_exp(b)\n",
        "get_gradient(c)\n",
        "\n",
        "ta = torch.tensor(2., requires_grad=True)\n",
        "tb = torch.pow(ta, 2)\n",
        "tc = torch.exp(tb)\n",
        "tc.backward()"
      ],
      "metadata": {
        "id": "8lFTEu4F09E5"
      },
      "execution_count": 5,
      "outputs": []
    },
    {
      "cell_type": "code",
      "source": [
        "if(list(dic_name.values())[-1] == ta.grad):\n",
        "  print('True')\n",
        "else:\n",
        "  print('False')"
      ],
      "metadata": {
        "colab": {
          "base_uri": "https://localhost:8080/"
        },
        "id": "_DuQWsU71ARn",
        "outputId": "97b5052c-f16a-4ae8-9b28-a072a1e25806"
      },
      "execution_count": 6,
      "outputs": [
        {
          "output_type": "stream",
          "name": "stdout",
          "text": [
            "False\n"
          ]
        }
      ]
    },
    {
      "cell_type": "code",
      "source": [
        ""
      ],
      "metadata": {
        "id": "5rSM54N1p3M3"
      },
      "execution_count": null,
      "outputs": []
    }
  ]
}